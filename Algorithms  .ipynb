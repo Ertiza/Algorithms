{
 "cells": [
  {
   "cell_type": "markdown",
   "id": "e6606627",
   "metadata": {},
   "source": [
    "## QUICK_SORT ALGORITHM"
   ]
  },
  {
   "cell_type": "code",
   "execution_count": 1,
   "id": "1a83acee",
   "metadata": {},
   "outputs": [
    {
     "name": "stdout",
     "output_type": "stream",
     "text": [
      "[1, 2, 3, 4, 5, 6, 7, 8, 9, 10, 12, 12, 12, 15, 16, 17, 80, 126, 250, 500, 900, 950, 1000, 4560]\n"
     ]
    }
   ],
   "source": [
    "def quick_sort(sequence):\n",
    "    length = len(sequence)\n",
    "    if length <= 1:\n",
    "        return sequence\n",
    "    else:\n",
    "        pivot = sequence.pop()\n",
    "        \n",
    "    items_greater = []\n",
    "    items_lower = []\n",
    "    \n",
    "    for item in sequence :#(the items left is the squence)\n",
    "        if item > pivot:\n",
    "            items_greater.append(item)\n",
    "        else:\n",
    "            items_lower.append(item)\n",
    "    return quick_sort(items_lower) + [pivot] + quick_sort(items_greater)\n",
    "\n",
    "print(quick_sort([1000,900,250,126,500,950,12,4560,12,1,2,3,4,5,6,7,8,9,10,12,15,16,17,80]))"
   ]
  },
  {
   "cell_type": "markdown",
   "id": "d7dccb9f",
   "metadata": {},
   "source": [
    "## Binary Search Algorithm"
   ]
  },
  {
   "cell_type": "code",
   "execution_count": 2,
   "id": "9b54ba20",
   "metadata": {},
   "outputs": [
    {
     "name": "stdout",
     "output_type": "stream",
     "text": [
      "None\n"
     ]
    }
   ],
   "source": [
    "\n",
    "def binary_search(sequence, item):\n",
    "    begin_index = 0\n",
    "    end_index = len(sequence) - 1\n",
    "\n",
    "    while begin_index <= end_index:\n",
    "        midpoint = begin_index + (end_index - begin_index) // 2\n",
    "        midpoint_value = sequence[midpoint]\n",
    "        if midpoint_value == item:\n",
    "            return midpoint\n",
    "\n",
    "        elif item < midpoint_value:\n",
    "            end_index = midpoint - 1\n",
    "\n",
    "        else:\n",
    "            begin_index = midpoint + 1\n",
    "\n",
    "    return None\n",
    "\n",
    "sequence_a = [2,4,5,6,7,8,9,10,12,13,14]\n",
    "item_a = 3\n",
    "\n",
    "\n",
    "print(binary_search(sequence_a, item_a))"
   ]
  },
  {
   "cell_type": "markdown",
   "id": "69a9950b",
   "metadata": {},
   "source": [
    "### Insertion Sort Algorithm"
   ]
  },
  {
   "cell_type": "code",
   "execution_count": 3,
   "id": "b1a3b440",
   "metadata": {},
   "outputs": [
    {
     "name": "stdout",
     "output_type": "stream",
     "text": [
      "[1, 2, 3, 5, 5, 6, 6, 8, 9, 10, 11, 12, 14, 25, 110, 122, 215, 786]\n"
     ]
    }
   ],
   "source": [
    "def insertion_sort(list_a):\n",
    "    indexing_length = range(1, len(list_a))\n",
    "    for i in indexing_length:\n",
    "        value_to_sort = list_a[i]\n",
    "\n",
    "        while list_a[i-1] > value_to_sort and i>0:\n",
    "            list_a[i], list_a[i-1] = list_a[i-1], list_a[i]\n",
    "            i = i -1\n",
    "\n",
    "    return list_a\n",
    "\n",
    "\n",
    "\n",
    "print(insertion_sort([215,25,6,8,9,1,2,3,5,6,10,11,122,110,786,14,12,5]))"
   ]
  },
  {
   "cell_type": "markdown",
   "id": "6835db07",
   "metadata": {},
   "source": [
    "### Bubble Sort Algorithm"
   ]
  },
  {
   "cell_type": "code",
   "execution_count": 4,
   "id": "42695f81",
   "metadata": {},
   "outputs": [
    {
     "name": "stdout",
     "output_type": "stream",
     "text": [
      "[1, 2, 5, 6, 6, 10, 12, 95]\n"
     ]
    }
   ],
   "source": [
    "list_a = [1,2,6,5,6,95,10,12] \n",
    "\n",
    "def bubble(list_a):\n",
    "    indexing_length = len(list_a) - 1 #SCan not apply comparision starting with last item of list (No item to right)\n",
    "    sorted = False #Create variable of sorted and set it equal to false\n",
    "\n",
    "    while not sorted:  #Repeat until sorted = True\n",
    "        sorted = True  # Break the while loop whenever we have gone through all the values\n",
    "\n",
    "        for i in range(0, indexing_length): # For every value in the list\n",
    "            if list_a[i] > list_a[i+1]: #if value in list is greater than value directly to the right of it,\n",
    "                sorted = False # These values are unsorted\n",
    "                list_a[i], list_a[i+1] = list_a[i+1], list_a[i] #Switch these values\n",
    "    return list_a # Return our list \"unsorted_list\" which is not sorted.\n",
    "\n",
    "\n",
    "# print(bubble([90,60,25,24,21,10,9,100,0,2000,1]))\n",
    "print(bubble(list_a))"
   ]
  },
  {
   "cell_type": "markdown",
   "id": "76aa4a12",
   "metadata": {},
   "source": [
    "### Selection sort Algorithm"
   ]
  },
  {
   "cell_type": "code",
   "execution_count": 5,
   "id": "70d560a5",
   "metadata": {},
   "outputs": [
    {
     "name": "stdout",
     "output_type": "stream",
     "text": [
      "[20, 25, 6, 1, 9, 3, 4, 5, 10, 100, 12, 120, 200, 65, 64, 63, 64, 31, 69, 100]\n",
      "[1, 3, 4, 5, 6, 9, 10, 12, 20, 25, 31, 63, 64, 64, 65, 69, 100, 120, 200, 100]\n"
     ]
    }
   ],
   "source": [
    "def selection_sort(L):\n",
    "    # i indicates how many items were sorted\n",
    "    for i in range(len(L)-1):\n",
    "        # To find the minimum value of the unsorted segment\n",
    "        # We first assume that the first element is the lowest\n",
    "        min_index = i\n",
    "        # We then use j to loop through the remaining elements\n",
    "        for j in range(i+1, len(L)-1):\n",
    "            # Update the min_index if the element at j is lower than it\n",
    "            if L[j] < L[min_index]:\n",
    "                min_index = j\n",
    "        # After finding the lowest item of the unsorted regions, swap with the first unsorted item\n",
    "        L[i], L[min_index] = L[min_index], L[i]\n",
    "L = [20,25,6,1,9,3,4,5,10,100,12,120,200,65,64,63,64,31,69,100]\n",
    "\n",
    "print(L)\n",
    "selection_sort(L)\n",
    "\n",
    "# Let's see the list after we run the Selection Sort\n",
    "print(L)"
   ]
  },
  {
   "cell_type": "code",
   "execution_count": 6,
   "id": "e47df386",
   "metadata": {},
   "outputs": [
    {
     "name": "stdout",
     "output_type": "stream",
     "text": [
      "[20, 25, 6, 1, 9, 3, 4, 5, 10, 100, 12, 120, 200, 65, 64, 63, 64, 31, 69, 100]\n",
      "[1, 3, 4, 5, 6, 9, 10, 12, 20, 25, 31, 63, 64, 64, 65, 69, 100, 120, 200, 100]\n"
     ]
    }
   ],
   "source": [
    "def selection_sort(list_a):\n",
    "    #  i indicates how many items were sorted\n",
    "    for i in range (len(list_a) - 1):\n",
    "        #To find the minimum value of the unnsorted segement\n",
    "        #We first assume that the first element is the lowest \n",
    "        \n",
    "        min_value = i\n",
    "        for j in range (i + 1, len(list_a)-1):\n",
    "            #update the min value if the element at J is lower than it\n",
    "            \n",
    "            if list_a[j] <list_a[min_value]:\n",
    "                min_value = j\n",
    "        # After finding the lowest item of the unsorted regions, swap with the first unsorted item\n",
    "        list_a[i], list_a[min_value] = list_a[min_value], list_a[i]\n",
    "list_a = [20,25,6,1,9,3,4,5,10,100,12,120,200,65,64,63,64,31,69,100]\n",
    "\n",
    "print(list_a)\n",
    "selection_sort(list_a)\n",
    "print(list_a)"
   ]
  },
  {
   "cell_type": "code",
   "execution_count": 9,
   "id": "6bf52d93",
   "metadata": {},
   "outputs": [
    {
     "name": "stdout",
     "output_type": "stream",
     "text": [
      "[1, 3, 5, 4, 9, 6, 20, 25, 10, 31, 12, 63, 64, 64, 65, 100, 100, 69, 120, 200]\n"
     ]
    }
   ],
   "source": [
    "#anotehr way to write same selection sort algorithm \n",
    "\n",
    "\n",
    "def selection_sort(list_a):\n",
    "    indexing_length = range(0, len(list_a)-1)\n",
    "\n",
    "    for i in indexing_length:\n",
    "        min_value = i\n",
    "\n",
    "        for j in range(i+1, len(list_a)):\n",
    "            if list_a[j] < list_a[min_value]:\n",
    "                min_value = j\n",
    "\n",
    "            if min_value != i:\n",
    "                list_a[min_value], list_a[i] = list_a[i], list_a[min_value]\n",
    "\n",
    "    return list_a\n",
    "\n",
    "# print(selection_sort([6,7,8,7,6,5,4,5,6,7,6,7,8,9,7,9,0]))\n",
    "print(selection_sort([20, 25, 6, 1, 9, 3, 4, 5, 10, 100, 12, 120, 200, 65, 64, 63, 64, 31, 69, 100]))"
   ]
  },
  {
   "cell_type": "code",
   "execution_count": null,
   "id": "af239e56",
   "metadata": {},
   "outputs": [],
   "source": []
  }
 ],
 "metadata": {
  "kernelspec": {
   "display_name": "Python 3 (ipykernel)",
   "language": "python",
   "name": "python3"
  },
  "language_info": {
   "codemirror_mode": {
    "name": "ipython",
    "version": 3
   },
   "file_extension": ".py",
   "mimetype": "text/x-python",
   "name": "python",
   "nbconvert_exporter": "python",
   "pygments_lexer": "ipython3",
   "version": "3.9.12"
  },
  "toc": {
   "base_numbering": 1,
   "nav_menu": {},
   "number_sections": false,
   "sideBar": true,
   "skip_h1_title": false,
   "title_cell": "Table of Contents",
   "title_sidebar": "Contents",
   "toc_cell": false,
   "toc_position": {},
   "toc_section_display": true,
   "toc_window_display": false
  }
 },
 "nbformat": 4,
 "nbformat_minor": 5
}
